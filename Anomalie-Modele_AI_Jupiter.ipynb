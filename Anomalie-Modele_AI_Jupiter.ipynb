{
 "cells": [
  {
   "cell_type": "markdown",
   "id": "5cbd98f2",
   "metadata": {},
   "source": [
    "Pobieranie danych historycznych NOAA - dane treningowe"
   ]
  },
  {
   "cell_type": "markdown",
   "id": "4eb2ef61",
   "metadata": {},
   "source": [
    "Wczytanie i oczyszczenie danych"
   ]
  },
  {
   "cell_type": "code",
   "execution_count": null,
   "id": "1e16dbd8",
   "metadata": {},
   "outputs": [],
   "source": [
    "import pandas as pd\n",
    "import numpy as np\n",
    "\n",
    "\n",
    "# Wczytanie i oczyszczenie danych\n",
    "\n",
    "data = pd.read_csv(\"Dane_NOAA.csv\")\n",
    "\n",
    "weather_data = data[[\"DATE\", \"TEMP\", \"PRCP\", \"WDSP\", \"MAX\", \"MIN\"]].dropna()\n",
    "\n",
    "#np.random.seed(42)\n",
    "#anomaly_indices = np.random.choice(len(weather_data), size=10, replace=False)                Ewentualnie dodane sztucznie anomalie\n",
    "#weather_data.loc[anomaly_indices, \"TEMP\"] *= 1.5  # sztuczne przegrzanie\n",
    "#weather_data.loc[anomaly_indices, \"PRCP\"] *= 3    # sztuczne ulewy\n",
    "\n",
    "weather_data.to_csv(\"obrobione_Dane_NOAA.csv\", index=False)\n"
   ]
  },
  {
   "cell_type": "markdown",
   "id": "f5368aba",
   "metadata": {},
   "source": [
    "Model 1 - Klasyfikacja ekstremów (Drzewo Decyzyjne)"
   ]
  },
  {
   "cell_type": "code",
   "execution_count": null,
   "id": "c193b488",
   "metadata": {},
   "outputs": [],
   "source": [
    "from sklearn.tree import DecisionTreeClassifier\n",
    "from sklearn.model_selection import train_test_split\n",
    "\n",
    "# Definicja ekstremów (0 = normalny dzień, 1 = upał, 2 = ulewa, 3 = wichura)\n",
    "\n",
    "weather_data[\"EXTREME\"] = 0  #brak ekstremum\n",
    "weather_data.loc[weather_data[\"MAX\"] > 32, \"EXTREME\"] = 1          # upał gdy >32°C\n",
    "weather_data.loc[weather_data[\"PRCP\"] > 20, \"EXTREME\"] = 2         # ulewa gdy >20mm\n",
    "weather_data.loc[weather_data[\"WDSP\"] > 30, \"EXTREME\"] = 3         # wichura gdy >30 węzłów\n",
    "\n",
    "X = weather_data[[\"TEMP\", \"PRCP\", \"WDSP\"]]\n",
    "y = weather_data[\"EXTREME\"]\n",
    "\n",
    "# Podział na zbiór treningowy i testowy\n",
    "X_train, X_test, y_train, y_test = train_test_split(X, y, test_size=0.2, random_state=42)\n",
    "\n",
    "# Trenowanie modelu\n",
    "model_dt = DecisionTreeClassifier(max_depth=4)\n",
    "model_dt.fit(X_train, y_train)\n",
    "\n",
    "# Ocena\n",
    "print(\"Accuracy:\", model_dt.score(X_test, y_test))\n"
   ]
  },
  {
   "cell_type": "markdown",
   "id": "c70a626b",
   "metadata": {},
   "source": [
    "Autoencoder do wykrywania nietypowych wzorców"
   ]
  },
  {
   "cell_type": "markdown",
   "id": "bb19d402",
   "metadata": {},
   "source": [
    "Przygotowanie danych"
   ]
  },
  {
   "cell_type": "code",
   "execution_count": null,
   "id": "3499038f",
   "metadata": {},
   "outputs": [],
   "source": [
    "import pandas as pd\n",
    "import numpy as np\n",
    "from sklearn.preprocessing import MinMaxScaler\n",
    "\n",
    "# Wczytanie danych\n",
    "data = pd.read_csv(\"Dane_NOAA.csv\")\n",
    "features = data[[\"TEMP\", \"PRCP\", \"WDSP\"]]\n",
    "\n",
    "# Normalizacja do przedziału [0,1]\n",
    "scaler = MinMaxScaler()\n",
    "X_normalized = scaler.fit_transform(features)"
   ]
  },
  {
   "cell_type": "markdown",
   "id": "4cb15144",
   "metadata": {},
   "source": [
    "Model"
   ]
  },
  {
   "cell_type": "code",
   "execution_count": null,
   "id": "36e7eb82",
   "metadata": {},
   "outputs": [],
   "source": [
    "from tensorflow.keras.models import Model\n",
    "from tensorflow.keras.layers import Input, Dense\n",
    "from sklearn.preprocessing import MinMaxScaler\n",
    "\n",
    "# Normalizacja danych\n",
    "scaler = MinMaxScaler()\n",
    "X_scaled = scaler.fit_transform(weather_data[[\"TEMP\", \"PRCP\", \"WDSP\"]])\n",
    "\n",
    "# Budowa autoencodera\n",
    "input_layer = Input(shape=(3,))\n",
    "encoded = Dense(2, activation='relu')(input_layer)  # warstwa ukryta\n",
    "decoded = Dense(3, activation='sigmoid')(encoded)  # rekonstrukcja\n",
    "\n",
    "autoencoder = Model(input_layer, decoded)\n",
    "autoencoder.compile(optimizer='adam', loss='mse')\n",
    "\n",
    "# Trenowanie\n",
    "autoencoder.fit(X_scaled, X_scaled, epochs=50, batch_size=32)\n",
    "\n",
    "# Obliczanie błędów rekonstrukcji\n",
    "reconstructions = autoencoder.predict(X_scaled)\n",
    "mse = np.mean(np.power(X_scaled - reconstructions, 2), axis=1)\n",
    "weather_data[\"AE_ANOMALY\"] = mse > np.quantile(mse, 0.95)  # górne 5% to anomalie"
   ]
  },
  {
   "cell_type": "markdown",
   "id": "89cefbb2",
   "metadata": {},
   "source": [
    "Kompilacja i trening"
   ]
  },
  {
   "cell_type": "code",
   "execution_count": null,
   "id": "f04bf143",
   "metadata": {},
   "outputs": [],
   "source": [
    "autoencoder.compile(optimizer=\"adam\", loss=\"mse\")  # MSE - błąd średniokwadratowy\n",
    "history = autoencoder.fit(\n",
    "    X_normalized, X_normalized,  # Autoencoder uczy się rekonstruować własne wejście\n",
    "    epochs=100,\n",
    "    batch_size=32,\n",
    "    validation_split=0.2\n",
    ")"
   ]
  },
  {
   "cell_type": "markdown",
   "id": "464668e1",
   "metadata": {},
   "source": [
    "Wykrywanie anomalii"
   ]
  },
  {
   "cell_type": "code",
   "execution_count": null,
   "id": "ff813996",
   "metadata": {},
   "outputs": [],
   "source": [
    "# Rekonstrukcja danych\n",
    "reconstructions = autoencoder.predict(X_normalized)\n",
    "\n",
    "# Obliczenie błędu rekonstrukcji dla każdej próbki\n",
    "mse = np.mean(np.power(X_normalized - reconstructions, 2), axis=1)\n",
    "\n",
    "# Określenie progu anomalii (np. 95 percentyl)\n",
    "threshold = np.quantile(mse, 0.95)\n",
    "\n",
    "# Znajdowanie anomalii\n",
    "anomalies = mse > threshold"
   ]
  },
  {
   "cell_type": "markdown",
   "id": "ea0fc845",
   "metadata": {},
   "source": [
    "Wizualizacja danych"
   ]
  },
  {
   "cell_type": "code",
   "execution_count": null,
   "id": "57ffac58",
   "metadata": {},
   "outputs": [],
   "source": [
    "import matplotlib.pyplot as plt\n",
    "\n",
    "plt.figure(figsize=(10, 6))\n",
    "plt.plot(mse, \"o\", markersize=4, label=\"Normalne dni\")\n",
    "plt.plot(np.where(anomalies)[0], mse[anomalies], \"ro\", \n",
    "         markersize=5, label=\"Anomalie\")\n",
    "plt.axhline(threshold, color=\"r\", linestyle=\"--\", label=\"Próg anomalii\")\n",
    "plt.xlabel(\"Numer dnia\")\n",
    "plt.ylabel(\"Błąd rekonstrukcji (MSE)\")\n",
    "plt.legend()\n",
    "plt.show()"
   ]
  },
  {
   "cell_type": "markdown",
   "id": "1a81114f",
   "metadata": {},
   "source": [
    "Wykrywanie anomalii (Isolation Forest)"
   ]
  },
  {
   "cell_type": "code",
   "execution_count": null,
   "id": "b1654730",
   "metadata": {},
   "outputs": [],
   "source": [
    "from sklearn.ensemble import IsolationForest\n",
    "\n",
    "# Dane wejściowe (tylko temperatura i opady)\n",
    "X = weather_data[[\"TEMP\", \"PRCP\"]]\n",
    "\n",
    "# Model Isolation Forest\n",
    "model_if = IsolationForest(contamination=0.05, random_state=42)  # zakładamy 5% anomalii\n",
    "model_if.fit(X)\n",
    "\n",
    "# Predykcja (-1 = anomalia, 1 = normalny dzień)\n",
    "anomalies = model_if.predict(X)\n",
    "weather_data[\"ANOMALY\"] = anomalies\n",
    "\n",
    "# Filtrowanie anomal\n",
    "anomaly_days = weather_data[weather_data[\"ANOMALY\"] == -1]\n",
    "print(\"Wykryte anomalie:\", anomaly_days[[\"DATE\", \"TEMP\", \"PRCP\"]])"
   ]
  }
 ],
 "metadata": {
  "language_info": {
   "name": "python"
  }
 },
 "nbformat": 4,
 "nbformat_minor": 5
}
